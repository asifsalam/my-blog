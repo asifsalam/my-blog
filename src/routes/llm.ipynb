{
 "cells": [
  {
   "cell_type": "code",
   "execution_count": null,
   "metadata": {},
   "outputs": [],
   "source": [
    "# llm install llm-gpt4all\n",
    "# llm models list\n",
    "# llm -m the-model-name \"Your query\""
   ]
  }
 ],
 "metadata": {
  "language_info": {
   "name": "python"
  }
 },
 "nbformat": 4,
 "nbformat_minor": 2
}
